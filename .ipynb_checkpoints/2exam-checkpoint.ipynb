{
 "cells": [
  {
   "cell_type": "code",
   "execution_count": 3,
   "id": "3e3674da-4714-4747-aea9-511a5e19b186",
   "metadata": {
    "tags": []
   },
   "outputs": [],
   "source": [
    "def is_power(n, b):\n",
    "    if n <= 0 or b <= 1:\n",
    "        return False\n",
    "    if n == 1:\n",
    "        return True\n",
    "    if b == 1:\n",
    "        return n==1\n",
    "    while n > 1:\n",
    "        if n % b != 0:\n",
    "            return False\n",
    "        n //= b\n",
    "    return n == 1"
   ]
  },
  {
   "cell_type": "raw",
   "id": "93809414-9177-42a4-9f9c-694e303f64b1",
   "metadata": {},
   "source": [
    "print(is_power(27, 3))"
   ]
  }
 ],
 "metadata": {
  "kernelspec": {
   "display_name": "Python 3 (ipykernel)",
   "language": "python",
   "name": "python3"
  },
  "language_info": {
   "codemirror_mode": {
    "name": "ipython",
    "version": 3
   },
   "file_extension": ".py",
   "mimetype": "text/x-python",
   "name": "python",
   "nbconvert_exporter": "python",
   "pygments_lexer": "ipython3",
   "version": "3.10.9"
  }
 },
 "nbformat": 4,
 "nbformat_minor": 5
}
